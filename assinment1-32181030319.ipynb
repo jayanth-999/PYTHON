{
 "cells": [
  {
   "cell_type": "code",
   "execution_count": 16,
   "metadata": {},
   "outputs": [
    {
     "name": "stdout",
     "output_type": "stream",
     "text": [
      "Please select operation -\n",
      "1. Add\n",
      "2. Subtract\n",
      "3. Multiply\n",
      "4. Divide\n",
      "5. Modulus\n",
      "6. Exponent\n",
      "7. Floor division\n",
      "\n",
      "select the operation3\n",
      "give the first input12\n",
      "give the second input14\n",
      "168\n"
     ]
    }
   ],
   "source": [
    "def add(a,b):\n",
    "    return a + b\n",
    "def sub(a,b):\n",
    "    return a-b\n",
    "def mul(a,b):\n",
    "    return a*b\n",
    "def div(a,b):\n",
    "    return a/b\n",
    "def mod(a,b):\n",
    "    return a%b\n",
    "def exp(a,b):\n",
    "    return a**b\n",
    "def floordiv(a,b):\n",
    "    return a//b\n",
    "print(\"Please select operation -\\n\" \n",
    "        \"1. Add\\n\" \n",
    "        \"2. Subtract\\n\" \n",
    "        \"3. Multiply\\n\"  \n",
    "        \"4. Divide\\n\" \n",
    "        \"5. Modulus\\n\" \n",
    "        \"6. Exponent\\n\" \n",
    "        \"7. Floor division\\n\")\n",
    "select=int(input(\"select the operation\"))\n",
    "x=int(input(\"give the first input\"))\n",
    "y=int(input(\"give the second input\"))\n",
    "if select==1:\n",
    "    print(add(x,y))\n",
    "elif select==2:\n",
    "    print(sub(x,y))\n",
    "elif select==3:\n",
    "    print(mul(x,y))\n",
    "elif select==4:\n",
    "    print(div(x,y))\n",
    "elif select==5:\n",
    "    print(mod(x,y))\n",
    "elif select==6:\n",
    "    print(exp(x,y))\n",
    "elif select==7:\n",
    "    print(floordiv(x,y))\n",
    "else:\n",
    "    print(\"invalid input\")\n",
    "\n"
   ]
  },
  {
   "cell_type": "markdown",
   "metadata": {},
   "source": [
    "# #Simple interest"
   ]
  },
  {
   "cell_type": "code",
   "execution_count": 19,
   "metadata": {},
   "outputs": [
    {
     "name": "stdout",
     "output_type": "stream",
     "text": [
      "give principal10\n",
      "time2\n",
      "rate of intrest4\n",
      "simple intrest is 0.8\n"
     ]
    }
   ],
   "source": [
    "p=int(input(\"give principal\"))\n",
    "t=int(input(\"time\"))\n",
    "r=int(input(\"rate of intrest\"))\n",
    "SI=(p*t*r)/100\n",
    "print(\"simple intrest is\",SI)"
   ]
  },
  {
   "cell_type": "markdown",
   "metadata": {},
   "source": [
    "### area of circle"
   ]
  },
  {
   "cell_type": "code",
   "execution_count": 34,
   "metadata": {},
   "outputs": [
    {
     "name": "stdout",
     "output_type": "stream",
     "text": [
      "Enter the radius of the circle :10\n",
      "Area of the circle is :314.159265\n"
     ]
    }
   ],
   "source": [
    "import math\n",
    "\n",
    "r = float(input('Enter the radius of the circle :'))\n",
    "area = math.pi * r * r\n",
    "\n",
    "print(\"Area of the circle is :%f\" %area)"
   ]
  },
  {
   "cell_type": "markdown",
   "metadata": {},
   "source": [
    "##temperature in Celsius to Fahrenheit"
   ]
  },
  {
   "cell_type": "code",
   "execution_count": 37,
   "metadata": {},
   "outputs": [
    {
     "name": "stdout",
     "output_type": "stream",
     "text": [
      "give tem in celsius56\n",
      "56.0 degree Celsius is equal to 132.8 degree Fahrenheit\n"
     ]
    }
   ],
   "source": [
    "celsius =float(input(\"give tem in celsius\"))\n",
    "fahrenheit = (celsius * 1.8) + 32\n",
    "print('%0.1f degree Celsius is equal to %0.1f degree Fahrenheit' %(celsius,fahrenheit))"
   ]
  },
  {
   "cell_type": "markdown",
   "metadata": {},
   "source": [
    "##area of rectangle."
   ]
  },
  {
   "cell_type": "code",
   "execution_count": 41,
   "metadata": {},
   "outputs": [
    {
     "name": "stdout",
     "output_type": "stream",
     "text": [
      "Enter the Width: 20\n",
      "Enter the Height : 30\n",
      "\n",
      " Area of a Rectangle is: 600.00\n"
     ]
    }
   ],
   "source": [
    "width = float(input('Enter the Width: '))\n",
    "height = float(input('Enter the Height : '))\n",
    "Area = width * height\n",
    "print(\"\\n Area of a Rectangle is: %.2f\" %Area)"
   ]
  },
  {
   "cell_type": "markdown",
   "metadata": {},
   "source": [
    "##perimeter of a square"
   ]
  },
  {
   "cell_type": "code",
   "execution_count": 43,
   "metadata": {},
   "outputs": [
    {
     "name": "stdout",
     "output_type": "stream",
     "text": [
      "side of a squre4\n",
      "perimiter of a squre is 16.0\n"
     ]
    }
   ],
   "source": [
    "a=float(input(\"side of a squre\"))\n",
    "p=4*a\n",
    "print(\"perimiter of a squre is\", p)"
   ]
  },
  {
   "cell_type": "markdown",
   "metadata": {},
   "source": [
    "##circumference of a circle"
   ]
  },
  {
   "cell_type": "code",
   "execution_count": 47,
   "metadata": {},
   "outputs": [
    {
     "name": "stdout",
     "output_type": "stream",
     "text": [
      "radius of a circle3\n",
      "circumference of a circle is 18.840000\n"
     ]
    }
   ],
   "source": [
    "r=float(input(\"radius of a circle\"))\n",
    "c=2*3.14*r\n",
    "print(\"circumference of a circle is %f\" %c)"
   ]
  },
  {
   "cell_type": "markdown",
   "metadata": {},
   "source": [
    "##swap two numbers."
   ]
  },
  {
   "cell_type": "code",
   "execution_count": 50,
   "metadata": {},
   "outputs": [
    {
     "name": "stdout",
     "output_type": "stream",
     "text": [
      " give value of a2\n",
      "give value of b3\n",
      "3 2\n"
     ]
    }
   ],
   "source": [
    "a=input(\" give value of a\")\n",
    "b=input(\"give value of b\")\n",
    "temp=a\n",
    "a=b\n",
    "b=temp\n",
    "print(a,b)"
   ]
  }
 ],
 "metadata": {
  "kernelspec": {
   "display_name": "Python 3",
   "language": "python",
   "name": "python3"
  },
  "language_info": {
   "codemirror_mode": {
    "name": "ipython",
    "version": 3
   },
   "file_extension": ".py",
   "mimetype": "text/x-python",
   "name": "python",
   "nbconvert_exporter": "python",
   "pygments_lexer": "ipython3",
   "version": "3.8.3"
  }
 },
 "nbformat": 4,
 "nbformat_minor": 4
}
